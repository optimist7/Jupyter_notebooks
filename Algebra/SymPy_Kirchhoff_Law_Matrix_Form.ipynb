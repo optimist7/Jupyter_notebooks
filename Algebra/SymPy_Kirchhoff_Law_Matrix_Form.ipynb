{
 "cells": [
  {
   "cell_type": "code",
   "execution_count": 1,
   "id": "99b276d9",
   "metadata": {},
   "outputs": [],
   "source": [
    "import sympy as sym\n",
    "sym.init_printing()\n",
    "#https://www.youtube.com/watch?v=_xomX-d8XU4 пример отсюда(https://www.youtube.com/watch?v=_xomX-d8XU4)"
   ]
  },
  {
   "cell_type": "markdown",
   "id": "c5c5e06b",
   "metadata": {},
   "source": [
    "Схема взята с \n",
    "[youtube:How to Solve a Kirchhoff''s Rules Problem - Matrix Example](https://www.youtube.com/watch?v=_xomX-d8XU4)\n",
    "Далее по тексту, как используя SymPy, производить вычисления в матричном виде.\n",
    "Собственно схема:"
   ]
  },
  {
   "cell_type": "markdown",
   "id": "87b06010",
   "metadata": {},
   "source": [
    "![title](img/circuit1.png)"
   ]
  },
  {
   "cell_type": "markdown",
   "id": "68ebbeca",
   "metadata": {},
   "source": [
    "### Матрица соединений $A$\n",
    "Матрица соединений $A=[a_{ij}]$  имеет ненулевые значения:\n",
    "*   -1, когда ток $I_i$  течет в направлении из вершины $x_j$ \n",
    "*   1, когда ток $I_i$ течет в направлении к вершине $x_j$\n",
    "\n",
    "Строки соответствуют ребрам (токам $I_i$), столбцы - вершинам $x_j$ \n",
    "\n",
    "Например, для тока $I_1$ из вершины $x_1$ в направлении к вершине $x_2$ строка матрицы будет $[-1,1,0,0]$"
   ]
  },
  {
   "cell_type": "code",
   "execution_count": 2,
   "id": "4e64473b",
   "metadata": {},
   "outputs": [],
   "source": [
    "# Зададим токи как символьные переменные в SymPy\n",
    "I1,I2,I3,I4,I5,I6 = sym.symbols(\"I1 I2 I3 I4 I5 I6\")\n",
    "I = sym.Matrix([I1,I2,I3,I4,I5,I6])"
   ]
  },
  {
   "cell_type": "code",
   "execution_count": 3,
   "id": "caf9e69d",
   "metadata": {},
   "outputs": [
    {
     "data": {
      "text/latex": [
       "$\\displaystyle \\left[\\begin{matrix}-1 & 1 & 0 & 0\\\\0 & -1 & 0 & 1\\\\0 & 0 & 1 & -1\\\\1 & 0 & -1 & 0\\\\1 & 0 & -1 & 0\\\\0 & -1 & 0 & 1\\end{matrix}\\right]$"
      ],
      "text/plain": [
       "⎡-1  1   0   0 ⎤\n",
       "⎢              ⎥\n",
       "⎢0   -1  0   1 ⎥\n",
       "⎢              ⎥\n",
       "⎢0   0   1   -1⎥\n",
       "⎢              ⎥\n",
       "⎢1   0   -1  0 ⎥\n",
       "⎢              ⎥\n",
       "⎢1   0   -1  0 ⎥\n",
       "⎢              ⎥\n",
       "⎣0   -1  0   1 ⎦"
      ]
     },
     "execution_count": 3,
     "metadata": {},
     "output_type": "execute_result"
    }
   ],
   "source": [
    "A = sym.Matrix([[-1,1,0,0],[0,-1,0,1],[0,0,1,-1],[1,0,-1,0],[1,0,-1,0],[0,-1,0,1]])\n",
    "A"
   ]
  },
  {
   "cell_type": "markdown",
   "id": "c448586f",
   "metadata": {},
   "source": [
    "### Матрицы контуров $B$ и сопротивлений $R$\n",
    "Матрица контуров $B=[b_{ij}]$  имеет ненулевые значения:\n",
    "*   1, когда направление тока $I_i$ совпадает с направлением обхода контура $B_i$ \n",
    "*   -1, когда когда направление тока $I_i$ противоположно направлению обхода контура $B_i$ \n",
    "\n",
    "Строки соответствуют контурам ($B_1,B_2,B_3$), столбцы - токам $I_1...I_6$ \n",
    "\n",
    "Например, для контура $B_1$ в контором присутствуют токи $I_6,I_2$ строка матрицы будет $[0,0,0,-1,1,0]$"
   ]
  },
  {
   "cell_type": "code",
   "execution_count": 4,
   "id": "b7c5a927",
   "metadata": {},
   "outputs": [
    {
     "data": {
      "text/latex": [
       "$\\displaystyle \\left[\\begin{matrix}0 & -1 & 0 & 0 & 0 & 1\\\\1 & 1 & 1 & 1 & 0 & 0\\\\0 & 0 & 0 & -1 & 1 & 0\\end{matrix}\\right]$"
      ],
      "text/plain": [
       "⎡0  -1  0  0   0  1⎤\n",
       "⎢                  ⎥\n",
       "⎢1  1   1  1   0  0⎥\n",
       "⎢                  ⎥\n",
       "⎣0  0   0  -1  1  0⎦"
      ]
     },
     "execution_count": 4,
     "metadata": {},
     "output_type": "execute_result"
    }
   ],
   "source": [
    "B = sym.Matrix([[0,-1,0,0,0,1],[1,1,1,1,0,0],[0,0,0,-1,1,0]])\n",
    "B"
   ]
  },
  {
   "cell_type": "markdown",
   "id": "f23d0c36",
   "metadata": {},
   "source": [
    "Отразим сопротивления на участках, через которые протекают токи $I_1..I_6$ в виде диагональной матрицы"
   ]
  },
  {
   "cell_type": "code",
   "execution_count": 5,
   "id": "b2eb9ffb",
   "metadata": {},
   "outputs": [
    {
     "data": {
      "text/latex": [
       "$\\displaystyle \\left[\\begin{matrix}2 & 0 & 0 & 0 & 0 & 0\\\\0 & 5 & 0 & 0 & 0 & 0\\\\0 & 0 & 0 & 0 & 0 & 0\\\\0 & 0 & 0 & 6 & 0 & 0\\\\0 & 0 & 0 & 0 & 8 & 0\\\\0 & 0 & 0 & 0 & 0 & 10\\end{matrix}\\right]$"
      ],
      "text/plain": [
       "⎡2  0  0  0  0  0 ⎤\n",
       "⎢                 ⎥\n",
       "⎢0  5  0  0  0  0 ⎥\n",
       "⎢                 ⎥\n",
       "⎢0  0  0  0  0  0 ⎥\n",
       "⎢                 ⎥\n",
       "⎢0  0  0  6  0  0 ⎥\n",
       "⎢                 ⎥\n",
       "⎢0  0  0  0  8  0 ⎥\n",
       "⎢                 ⎥\n",
       "⎣0  0  0  0  0  10⎦"
      ]
     },
     "execution_count": 5,
     "metadata": {},
     "output_type": "execute_result"
    }
   ],
   "source": [
    "R=sym.Matrix.diag(2,5,0,6,8,10)\n",
    "R"
   ]
  },
  {
   "cell_type": "markdown",
   "id": "66ea4399",
   "metadata": {},
   "source": [
    "### Матрица ЭДС в контурах $E$\n",
    "Для каждого контура $B_1...B_3$ подсчитаем в них участвующую ЭДС (с учетом полярности по направлению обхода):"
   ]
  },
  {
   "cell_type": "code",
   "execution_count": 6,
   "id": "8632b073",
   "metadata": {},
   "outputs": [
    {
     "data": {
      "text/latex": [
       "$\\displaystyle \\left[\\begin{matrix}-8\\\\4\\\\2\\end{matrix}\\right]$"
      ],
      "text/plain": [
       "⎡-8⎤\n",
       "⎢  ⎥\n",
       "⎢4 ⎥\n",
       "⎢  ⎥\n",
       "⎣2 ⎦"
      ]
     },
     "execution_count": 6,
     "metadata": {},
     "output_type": "execute_result"
    }
   ],
   "source": [
    "E = sym.Matrix([-8,4,2])\n",
    "E"
   ]
  },
  {
   "cell_type": "markdown",
   "id": "85818576",
   "metadata": {},
   "source": [
    "### 1 правило Кирхгофа (сумма токов в узлах равна нулю)\n",
    "Используем его (решив уравнение $A^T\\times I=0$):"
   ]
  },
  {
   "cell_type": "code",
   "execution_count": 7,
   "id": "c67672f6",
   "metadata": {},
   "outputs": [
    {
     "data": {
      "image/png": "[encoded data removed]",
      "text/latex": [
       "$\\displaystyle \\left\\{ I_{1} : I_{4} + I_{5}, \\  I_{2} : I_{4} + I_{5} - I_{6}, \\  I_{3} : I_{4} + I_{5}\\right\\}$"
      ],
      "text/plain": [
       "{I₁: I₄ + I₅, I₂: I₄ + I₅ - I₆, I₃: I₄ + I₅}"
      ]
     },
     "execution_count": 7,
     "metadata": {},
     "output_type": "execute_result"
    }
   ],
   "source": [
    "sym.solve(A.T*I)"
   ]
  },
  {
   "cell_type": "markdown",
   "id": "ff931e19",
   "metadata": {},
   "source": [
    "Обновим информацию по токам согласно полученному решению (как сделать непосредственно через функции SymPy - не нашел)"
   ]
  },
  {
   "cell_type": "code",
   "execution_count": 8,
   "id": "e4bef05b",
   "metadata": {},
   "outputs": [
    {
     "data": {
      "text/latex": [
       "$\\displaystyle \\left[\\begin{matrix}I_{4} + I_{5}\\\\I_{4} + I_{5} - I_{6}\\\\I_{4} + I_{5}\\\\I_{4}\\\\I_{5}\\\\I_{6}\\end{matrix}\\right]$"
      ],
      "text/plain": [
       "⎡  I₄ + I₅   ⎤\n",
       "⎢            ⎥\n",
       "⎢I₄ + I₅ - I₆⎥\n",
       "⎢            ⎥\n",
       "⎢  I₄ + I₅   ⎥\n",
       "⎢            ⎥\n",
       "⎢     I₄     ⎥\n",
       "⎢            ⎥\n",
       "⎢     I₅     ⎥\n",
       "⎢            ⎥\n",
       "⎣     I₆     ⎦"
      ]
     },
     "execution_count": 8,
     "metadata": {},
     "output_type": "execute_result"
    }
   ],
   "source": [
    "I = sym.Matrix([I4+I5, I4+I5-I6, I4+I5, I4, I5, I6])\n",
    "I"
   ]
  },
  {
   "cell_type": "markdown",
   "id": "02b7f5c2",
   "metadata": {},
   "source": [
    "### 2 правило Кирхгофа (сумма произведений тока на сопротивления в закрытом контуре есть сумма ЭДС в нем)\n",
    "Используем его(решив уравнение $B\\times R \\times I=E$)"
   ]
  },
  {
   "cell_type": "code",
   "execution_count": 9,
   "id": "598757bf",
   "metadata": {},
   "outputs": [
    {
     "data": {
      "image/png": "[encoded data removed]",
      "text/latex": [
       "$\\displaystyle \\left\\{ I_{4} : 0, \\  I_{5} : \\frac{1}{4}, \\  I_{6} : - \\frac{9}{20}\\right\\}$"
      ],
      "text/plain": [
       "{I₄: 0, I₅: 1/4, I₆: -9/20}"
      ]
     },
     "execution_count": 9,
     "metadata": {},
     "output_type": "execute_result"
    }
   ],
   "source": [
    "sym.solve(B*R*I-E)"
   ]
  },
  {
   "cell_type": "markdown",
   "id": "bdd62658",
   "metadata": {},
   "source": [
    "Подсчитаем в числовом виде, найденные значения токов $I_1...I_6$ на участках:"
   ]
  },
  {
   "cell_type": "code",
   "execution_count": 10,
   "id": "41464e98",
   "metadata": {},
   "outputs": [
    {
     "data": {
      "text/latex": [
       "$\\displaystyle \\left[\\begin{matrix}0.25\\\\0.7\\\\0.25\\\\0\\\\0.25\\\\-0.45\\end{matrix}\\right]$"
      ],
      "text/plain": [
       "⎡0.25 ⎤\n",
       "⎢     ⎥\n",
       "⎢ 0.7 ⎥\n",
       "⎢     ⎥\n",
       "⎢0.25 ⎥\n",
       "⎢     ⎥\n",
       "⎢  0  ⎥\n",
       "⎢     ⎥\n",
       "⎢0.25 ⎥\n",
       "⎢     ⎥\n",
       "⎣-0.45⎦"
      ]
     },
     "execution_count": 10,
     "metadata": {},
     "output_type": "execute_result"
    }
   ],
   "source": [
    "I_calc=I.evalf(subs=sym.solve(B*R*I-E))\n",
    "I_calc"
   ]
  },
  {
   "cell_type": "markdown",
   "id": "d73f2ef6",
   "metadata": {},
   "source": [
    "### Подсчитаем разность потенциалов и мощности на резисторах\n",
    "Выпишем в матрицу: \n",
    "*  1 столбец - сопротивления всех резисторов из нашей схемы \n",
    "*  2 столбец - номера контуров $B_1...B_3$, в состав которых они входят \n",
    "*  3 столбец - номера текущих через них токов $I_1...I_6$"
   ]
  },
  {
   "cell_type": "markdown",
   "id": "fd95866b",
   "metadata": {},
   "source": [
    "![title](img/circuit1.png)"
   ]
  },
  {
   "cell_type": "code",
   "execution_count": 11,
   "id": "03d7c2a0",
   "metadata": {},
   "outputs": [
    {
     "data": {
      "text/latex": [
       "$\\displaystyle \\left[\\begin{matrix}5 & 3 & 5\\\\3 & 3 & 5\\\\6 & 3 & 4\\\\2 & 2 & 1\\\\5 & 2 & 2\\\\2 & 1 & 6\\\\8 & 1 & 6\\end{matrix}\\right]$"
      ],
      "text/plain": [
       "⎡5  3  5⎤\n",
       "⎢       ⎥\n",
       "⎢3  3  5⎥\n",
       "⎢       ⎥\n",
       "⎢6  3  4⎥\n",
       "⎢       ⎥\n",
       "⎢2  2  1⎥\n",
       "⎢       ⎥\n",
       "⎢5  2  2⎥\n",
       "⎢       ⎥\n",
       "⎢2  1  6⎥\n",
       "⎢       ⎥\n",
       "⎣8  1  6⎦"
      ]
     },
     "execution_count": 11,
     "metadata": {},
     "output_type": "execute_result"
    }
   ],
   "source": [
    "R_circuit=sym.Matrix([[5,3,5],[3,3,5],[6,3,4],[2,2,1],[5,2,2],[2,1,6],[8,1,6]])\n",
    "R_circuit"
   ]
  },
  {
   "cell_type": "markdown",
   "id": "6efe1370",
   "metadata": {},
   "source": [
    "Для удобства добавим числовое значение тока и числовое значение ЭДС в контуре, при расчетах учитываем что индексация в SymPy начинается с нуля, поэтому вычитаем 1 при нумерации элементов"
   ]
  },
  {
   "cell_type": "code",
   "execution_count": 12,
   "id": "006d31ac",
   "metadata": {},
   "outputs": [
    {
     "data": {
      "text/latex": [
       "$\\displaystyle \\left[\\begin{matrix}5 & 3 & 5 & 0.25 & 2\\\\3 & 3 & 5 & 0.25 & 2\\\\6 & 3 & 4 & 0 & 2\\\\2 & 2 & 1 & 0.25 & 4\\\\5 & 2 & 2 & 0.7 & 4\\\\2 & 1 & 6 & -0.45 & -8\\\\8 & 1 & 6 & -0.45 & -8\\end{matrix}\\right]$"
      ],
      "text/plain": [
       "⎡5  3  5  0.25   2 ⎤\n",
       "⎢                  ⎥\n",
       "⎢3  3  5  0.25   2 ⎥\n",
       "⎢                  ⎥\n",
       "⎢6  3  4    0    2 ⎥\n",
       "⎢                  ⎥\n",
       "⎢2  2  1  0.25   4 ⎥\n",
       "⎢                  ⎥\n",
       "⎢5  2  2   0.7   4 ⎥\n",
       "⎢                  ⎥\n",
       "⎢2  1  6  -0.45  -8⎥\n",
       "⎢                  ⎥\n",
       "⎣8  1  6  -0.45  -8⎦"
      ]
     },
     "execution_count": 12,
     "metadata": {},
     "output_type": "execute_result"
    }
   ],
   "source": [
    "R_circuit=R_circuit.col_insert(3,R_circuit.col(2).applyfunc(lambda i: I_calc[i -1]))\n",
    "R_circuit=R_circuit.col_insert(4,R_circuit.col(1).applyfunc(lambda i: E[i -1]))\n",
    "R_circuit"
   ]
  },
  {
   "cell_type": "markdown",
   "id": "04646349",
   "metadata": {},
   "source": [
    "Тогда разность потенциалов будет $U=I \\cdot R$, добавим ее в конце отдельной колонкой."
   ]
  },
  {
   "cell_type": "code",
   "execution_count": 13,
   "id": "f52bc568",
   "metadata": {},
   "outputs": [
    {
     "data": {
      "text/latex": [
       "$\\displaystyle \\left[\\begin{matrix}5 & 3 & 5 & 0.25 & 2 & 1.25\\\\3 & 3 & 5 & 0.25 & 2 & 0.75\\\\6 & 3 & 4 & 0 & 2 & 0\\\\2 & 2 & 1 & 0.25 & 4 & 0.5\\\\5 & 2 & 2 & 0.7 & 4 & 3.5\\\\2 & 1 & 6 & -0.45 & -8 & -0.9\\\\8 & 1 & 6 & -0.45 & -8 & -3.6\\end{matrix}\\right]$"
      ],
      "text/plain": [
       "⎡5  3  5  0.25   2   1.25⎤\n",
       "⎢                        ⎥\n",
       "⎢3  3  5  0.25   2   0.75⎥\n",
       "⎢                        ⎥\n",
       "⎢6  3  4    0    2    0  ⎥\n",
       "⎢                        ⎥\n",
       "⎢2  2  1  0.25   4   0.5 ⎥\n",
       "⎢                        ⎥\n",
       "⎢5  2  2   0.7   4   3.5 ⎥\n",
       "⎢                        ⎥\n",
       "⎢2  1  6  -0.45  -8  -0.9⎥\n",
       "⎢                        ⎥\n",
       "⎣8  1  6  -0.45  -8  -3.6⎦"
      ]
     },
     "execution_count": 13,
     "metadata": {},
     "output_type": "execute_result"
    }
   ],
   "source": [
    "R_circuit=R_circuit.col_insert(5,R_circuit.col(0).multiply_elementwise(R_circuit.col(3)))\n",
    "R_circuit"
   ]
  },
  {
   "cell_type": "markdown",
   "id": "acb9fea8",
   "metadata": {},
   "source": [
    "Добавим последней колонкой мощность $P=U \\cdot I$:"
   ]
  },
  {
   "cell_type": "code",
   "execution_count": 14,
   "id": "a253362b",
   "metadata": {},
   "outputs": [
    {
     "data": {
      "text/latex": [
       "$\\displaystyle \\left[\\begin{matrix}5 & 3 & 5 & 0.25 & 2 & 1.25 & 0.3125\\\\3 & 3 & 5 & 0.25 & 2 & 0.75 & 0.1875\\\\6 & 3 & 4 & 0 & 2 & 0 & 0\\\\2 & 2 & 1 & 0.25 & 4 & 0.5 & 0.125\\\\5 & 2 & 2 & 0.7 & 4 & 3.5 & 2.45\\\\2 & 1 & 6 & -0.45 & -8 & -0.9 & 0.405\\\\8 & 1 & 6 & -0.45 & -8 & -3.6 & 1.62\\end{matrix}\\right]$"
      ],
      "text/plain": [
       "⎡5  3  5  0.25   2   1.25  0.3125⎤\n",
       "⎢                                ⎥\n",
       "⎢3  3  5  0.25   2   0.75  0.1875⎥\n",
       "⎢                                ⎥\n",
       "⎢6  3  4    0    2    0      0   ⎥\n",
       "⎢                                ⎥\n",
       "⎢2  2  1  0.25   4   0.5   0.125 ⎥\n",
       "⎢                                ⎥\n",
       "⎢5  2  2   0.7   4   3.5    2.45 ⎥\n",
       "⎢                                ⎥\n",
       "⎢2  1  6  -0.45  -8  -0.9  0.405 ⎥\n",
       "⎢                                ⎥\n",
       "⎣8  1  6  -0.45  -8  -3.6   1.62 ⎦"
      ]
     },
     "execution_count": 14,
     "metadata": {},
     "output_type": "execute_result"
    }
   ],
   "source": [
    "R_circuit=R_circuit.col_insert(6,R_circuit.col(5).multiply_elementwise(R_circuit.col(3)))\n",
    "R_circuit"
   ]
  },
  {
   "cell_type": "markdown",
   "id": "3cd043ab",
   "metadata": {},
   "source": [
    "Добавим, для удобства, титульную строку с заголовками."
   ]
  },
  {
   "cell_type": "code",
   "execution_count": 15,
   "id": "f3620703",
   "metadata": {},
   "outputs": [
    {
     "data": {
      "text/latex": [
       "$\\displaystyle \\left[\\begin{matrix}R_{Ohm} & B_{i} & I_{j} & EForce_{V} & Current_{A} & Voltage_{V} & Power_{Wt}\\\\5 & 3 & 5 & 0.25 & 2 & 1.25 & 0.3125\\\\3 & 3 & 5 & 0.25 & 2 & 0.75 & 0.1875\\\\6 & 3 & 4 & 0 & 2 & 0 & 0\\\\2 & 2 & 1 & 0.25 & 4 & 0.5 & 0.125\\\\5 & 2 & 2 & 0.7 & 4 & 3.5 & 2.45\\\\2 & 1 & 6 & -0.45 & -8 & -0.9 & 0.405\\\\8 & 1 & 6 & -0.45 & -8 & -3.6 & 1.62\\end{matrix}\\right]$"
      ],
      "text/plain": [
       "⎡R_Ohm  Bᵢ  I_j  EForce_V  Current_A  Voltage_V  Power_Wt⎤\n",
       "⎢                                                        ⎥\n",
       "⎢  5    3    5     0.25        2        1.25      0.3125 ⎥\n",
       "⎢                                                        ⎥\n",
       "⎢  3    3    5     0.25        2        0.75      0.1875 ⎥\n",
       "⎢                                                        ⎥\n",
       "⎢  6    3    4      0          2          0         0    ⎥\n",
       "⎢                                                        ⎥\n",
       "⎢  2    2    1     0.25        4         0.5      0.125  ⎥\n",
       "⎢                                                        ⎥\n",
       "⎢  5    2    2     0.7         4         3.5       2.45  ⎥\n",
       "⎢                                                        ⎥\n",
       "⎢  2    1    6    -0.45       -8        -0.9      0.405  ⎥\n",
       "⎢                                                        ⎥\n",
       "⎣  8    1    6    -0.45       -8        -3.6       1.62  ⎦"
      ]
     },
     "execution_count": 15,
     "metadata": {},
     "output_type": "execute_result"
    }
   ],
   "source": [
    "R_circuit=R_circuit.row_insert(0,sym.Matrix([sym.symbols(\"R_Ohm B_i I_j EForce_V Current_A Voltage_V Power_Wt\")]))\n",
    "R_circuit"
   ]
  }
 ],
 "metadata": {
  "kernelspec": {
   "display_name": "Python 3",
   "language": "python",
   "name": "python3"
  },
  "language_info": {
   "codemirror_mode": {
    "name": "ipython",
    "version": 3
   },
   "file_extension": ".py",
   "mimetype": "text/x-python",
   "name": "python",
   "nbconvert_exporter": "python",
   "pygments_lexer": "ipython3",
   "version": "3.8.8"
  }
 },
 "nbformat": 4,
 "nbformat_minor": 5
}
